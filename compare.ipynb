{
 "cells": [
  {
   "cell_type": "code",
   "execution_count": 1,
   "metadata": {},
   "outputs": [],
   "source": [
    "import math\n",
    "import matplotlib.pyplot as plt\n",
    "import numpy as np\n",
    "import numpy.random as npr\n",
    "import time\n",
    "import lsm\n",
    "import monte\n",
    "import fdm"
   ]
  },
  {
   "cell_type": "code",
   "execution_count": 2,
   "metadata": {},
   "outputs": [],
   "source": [
    "#params of market\n",
    "S0 = 125\n",
    "K = 100\n",
    "r = 0.02\n",
    "sigma = 0.3\n",
    "T = 2"
   ]
  },
  {
   "cell_type": "code",
   "execution_count": 3,
   "metadata": {},
   "outputs": [
    {
     "name": "stdout",
     "output_type": "stream",
     "text": [
      "36.416418504420065\n"
     ]
    }
   ],
   "source": [
    "# calc by analytic formula\n",
    "true_price = monte.analytic_BS(sigma, r, K, T, S0)\n",
    "print(true_price)"
   ]
  },
  {
   "cell_type": "code",
   "execution_count": 4,
   "metadata": {},
   "outputs": [],
   "source": [
    "#calc by monte\n",
    "M = 10 ** 6\n",
    "N = 100\n",
    "npr.seed(0)\n",
    "\n",
    "start_time = time.time()\n",
    "\n",
    "monte_price = monte.montecalro(sigma, r, K, T, S0, M, N)\n",
    "\n",
    "end_time = time.time()\n",
    "elapsed_time = end_time - start_time\n",
    "hours_monte, rem = divmod(elapsed_time, 3600)\n",
    "minutes_monte, seconds_monte = divmod(rem, 60)"
   ]
  },
  {
   "cell_type": "code",
   "execution_count": 5,
   "metadata": {},
   "outputs": [],
   "source": [
    "#calc by lsm\n",
    "M = 10 ** 6\n",
    "N = 100\n",
    "npr.seed(0)\n",
    "\n",
    "start_time = time.time()\n",
    "\n",
    "lsm_price = lsm.least_square_monte(sigma, r, K, T, S0, M, N)\n",
    "\n",
    "end_time = time.time()\n",
    "elapsed_time = end_time - start_time\n",
    "hours_lsm, rem = divmod(elapsed_time, 3600)\n",
    "minutes_lsm, seconds_lsm = divmod(rem, 60)"
   ]
  },
  {
   "cell_type": "code",
   "execution_count": 6,
   "metadata": {},
   "outputs": [],
   "source": [
    "#calc by fdm\n",
    "N = 5000\n",
    "x = 10\n",
    "\n",
    "start_time = time.time()\n",
    "\n",
    "fdm_price = fdm.implicit_fdm(sigma, r, K, T, S0, N, x)\n",
    "\n",
    "end_time = time.time()\n",
    "elapsed_time = end_time - start_time\n",
    "hours_fdm, rem = divmod(elapsed_time, 3600)\n",
    "minutes_fdm, seconds_fdm = divmod(rem, 60)"
   ]
  },
  {
   "cell_type": "code",
   "execution_count": 7,
   "metadata": {},
   "outputs": [
    {
     "name": "stdout",
     "output_type": "stream",
     "text": [
      "montecalro\n",
      "calc time : 0h 1m 32.01s\n",
      "price : 36.49051830009902, error : 0.0740997956789542\n",
      "least square montecalro\n",
      "calc time : 0h 1m 48.66s\n",
      "price : 36.73605318676405, error : 0.3196346823439882\n",
      "finite differential method (implicit method)\n",
      "calc time : 0h 0m 24.92s\n",
      "price : 36.41485357209669, error : 0.001564932323375956\n"
     ]
    }
   ],
   "source": [
    "print(\"montecalro\")\n",
    "print(f\"calc time : {int(hours_monte)}h {int(minutes_monte)}m {seconds_monte:.2f}s\")\n",
    "print(f\"price : {monte_price}, error : {abs(true_price - monte_price)}\")\n",
    "\n",
    "print(\"least square montecalro\")\n",
    "print(f\"calc time : {int(hours_lsm)}h {int(minutes_lsm)}m {seconds_lsm:.2f}s\")\n",
    "print(f\"price : {lsm_price}, error : {abs(true_price - lsm_price)}\")\n",
    "\n",
    "print(\"finite differential method (implicit method)\")\n",
    "print(f\"calc time : {int(hours_fdm)}h {int(minutes_fdm)}m {seconds_fdm:.2f}s\")\n",
    "print(f\"price : {fdm_price}, error : {abs(true_price - fdm_price)}\")"
   ]
  },
  {
   "cell_type": "code",
   "execution_count": 8,
   "metadata": {},
   "outputs": [],
   "source": [
    "#for monte params to research converges\n",
    "M = 10**6\n",
    "N_list = np.array([2, 5, 10, 25, 50, 100])\n",
    "\n",
    "sim_price = np.zeros(len(N_list))\n",
    "true_price = monte.analytic_BS(sigma, r, K, T, S0)\n",
    "errors = np.zeros(len(N_list))"
   ]
  },
  {
   "cell_type": "code",
   "execution_count": 9,
   "metadata": {},
   "outputs": [],
   "source": [
    "npr.seed(100)\n",
    "for n in range(len(N_list)):\n",
    "    sim_price[n] = monte.montecalro(sigma, r, K, T, S0, M, N_list[n])\n",
    "    errors[n] = abs(true_price - sim_price[n])"
   ]
  },
  {
   "cell_type": "code",
   "execution_count": 10,
   "metadata": {},
   "outputs": [
    {
     "data": {
      "image/png": "[encoded data removed]",
      "text/plain": [
       "<Figure size 640x480 with 1 Axes>"
      ]
     },
     "metadata": {},
     "output_type": "display_data"
    }
   ],
   "source": [
    "fig, ax = plt.subplots()\n",
    "ax.plot(N_list, errors)\n",
    "ax.set_xscale(\"log\")\n",
    "ax.set_yscale(\"log\")\n",
    "ax.set_xlabel(\"steps\")\n",
    "ax.set_ylabel(\"error\")\n",
    "ax.grid(True)\n",
    "pass"
   ]
  }
 ],
 "metadata": {
  "kernelspec": {
   "display_name": "base",
   "language": "python",
   "name": "python3"
  },
  "language_info": {
   "codemirror_mode": {
    "name": "ipython",
    "version": 3
   },
   "file_extension": ".py",
   "mimetype": "text/x-python",
   "name": "python",
   "nbconvert_exporter": "python",
   "pygments_lexer": "ipython3",
   "version": "3.11.9"
  }
 },
 "nbformat": 4,
 "nbformat_minor": 2
}

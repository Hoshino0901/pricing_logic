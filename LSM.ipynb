{
 "cells": [
  {
   "cell_type": "markdown",
   "metadata": {},
   "source": [
    "# Least Square Montecalro\n",
    "$E[f(X_T) | \\mathcal{F}_t]$を数値的に計算する方法を考える．\n",
    "$$\n",
    "\\mathcal{L}^2 := \\{X : \\text{r.v.} | E[X^2] < +\\infty\\} \\\\\n",
    "\\mathcal{L}_t^2 := \\{X \\in \\mathcal{L} | X \\in m\\mathcal{F}_t\\} \n",
    "$$\n",
    "とおくと，$E[f(X_T) | \\mathcal{F}_t] \\in \\mathcal{L}_t$である．\n",
    "\n",
    "$X$をマルコフ過程とすると，$E[f(X_T) | \\mathcal{F}_t] = g(X_t)$となるボレル可測関数$g$が存在する．$X_t$の分布測度を$\\mu_t$と書くことにする．また，\n",
    "$$\n",
    "\\tilde{\\mathcal{L}}^2_t := \\biggl\\{f : \\text{Borel measurable func.} \\bigg| \\int_{\\mathbb{R}}f(x)^2\\,d\\mu_t(x) < +\\infty\\biggr\\}\n",
    "$$\n",
    "とおく．このとき，条件付き期待値が$\\mathcal{L}_t^2$の元であることから，$g\\in \\tilde{\\mathcal{L}}^2_t$であり，$\\tilde{\\mathcal{L}}^2_t$が可分Hilbert空間であることから，\n",
    "$$\n",
    "\\exists\\{a_i\\} \\subset \\mathbb{R}^\\mathbb{N},\\ \\exists \\{\\phi_i(x)\\} \\subset \\tilde{\\mathcal{L}}^2_t\\ \\ s.t.\\ \\ g(x) = \\sum_{i=1}^\\infty a_i\\phi _i(x)\n",
    "$$\n",
    "となる．よって，\n",
    "$$\n",
    "g(X_t) = \\sum_{i=1}^\\infty a_i\\phi _i(X_t)\n",
    "$$\n",
    "となり，$\\{\\phi_n(x)\\} \\subset \\tilde{\\mathcal{L}}^2_t$であるので，$\\{\\phi_i(X_t)\\} \\subset \\mathcal{L}^2_t$である．\n",
    "\n",
    "$\\{a_i\\}$は，条件付き期待値が正射影であることから，\n",
    "$$\n",
    "E\\left[\\left(f(X_T) - \\sum_{i=1}^\\infty a_i\\phi _i(X_t)\\right)^2\\right]\n",
    "$$\n",
    "が最小となるような実数列$\\{a_i\\}$を選べば良い．\n",
    "\n",
    "そのような実数列$\\{a_i\\}$を決定するにあたって，$X_t$のパスを$M$本発生させ，\n",
    "$$\n",
    "E\\left[\\left(f(X_T) - \\sum_{i=1}^\\infty a_i\\phi _i(X_t)\\right)^2\\right] \\simeq \\frac{1}{M}\\sum_{m = 1}^M\\left(f(X_T) - \\sum_{i=1}^\\infty a_i\\phi _i(X_t)\\right)^2\n",
    "$$\n",
    "と計算する(Montecalro simulation)．この近似による誤差は$O\\left(\\frac{1}{\\sqrt{M}}\\right)$である．\n",
    "\n",
    "また，適当な$I$によって，\n",
    "$$\n",
    "\\sum_{i=1}^\\infty a_i\\phi _i(X_t) \\simeq \\sum_{i=1}^I a_i\\phi _i(X_t)\n",
    "$$\n",
    "で近似する．この部分の誤差は$\\tilde{\\mathcal{L}}^2_t$の基底$\\{\\phi_i(x)\\}$の選び方に依存する．\n",
    "\n",
    "以上によりLSMでは，\n",
    "$$\n",
    "E\\left[\\left(f(X_T) - E[f(X_T) | \\mathcal{F}_t]\\right)^2\\right] \\simeq \\frac{1}{M}\\sum_{m = 1}^M\\left(f(X_T) - \\sum_{i=1}^I a_i\\phi _i(X_t)\\right)^2\n",
    "$$\n",
    "の右辺の最小二乗回帰によって$\\{a_i\\}$を決定し，\n",
    "$$\n",
    "E[f(X_T) | \\mathcal{F}_t] \\simeq \\sum_{i=1}^I a_i\\phi _i(X_t)\n",
    "$$\n",
    "によって近似計算する．"
   ]
  }
 ],
 "metadata": {
  "language_info": {
   "name": "python"
  }
 },
 "nbformat": 4,
 "nbformat_minor": 2
}
